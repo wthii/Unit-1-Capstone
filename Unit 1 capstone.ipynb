{
 "cells": [
  {
   "cell_type": "code",
   "execution_count": 5,
   "metadata": {
    "collapsed": true
   },
   "outputs": [],
   "source": [
    "import numpy as np\n",
    "import matplotlib.pyplot as plt\n",
    "import pandas as pd\n",
    "import seaborn as sns\n",
    "from scipy import stats\n",
    "%matplotlib inline"
   ]
  },
  {
   "cell_type": "code",
   "execution_count": 6,
   "metadata": {
    "collapsed": true
   },
   "outputs": [],
   "source": [
    "df = pd.read_csv('/Users/whaight/Downloads/DS/nfl_draft.csv')"
   ]
  },
  {
   "cell_type": "code",
   "execution_count": 7,
   "metadata": {
    "collapsed": false
   },
   "outputs": [
    {
     "name": "stdout",
     "output_type": "stream",
     "text": [
      "Index(['Player_Id', 'Year', 'Rnd', 'Pick', 'Tm', 'Player', 'Pos',\n",
      "       'Position Standard', 'First4AV', 'Age', 'To', 'AP1', 'PB', 'St',\n",
      "       'CarAV', 'DrAV', 'G', 'Cmp', 'Pass_Att', 'Pass_Yds', 'Pass_TD',\n",
      "       'Pass_Int', 'Rush_Att', 'Rush_Yds', 'Rush_TDs', 'Rec', 'Rec_Yds',\n",
      "       'Rec_Tds', 'Tkl', 'Def_Int', 'Sk', 'College/Univ', 'Unnamed: 32'],\n",
      "      dtype='object')\n"
     ]
    }
   ],
   "source": [
    "print( df.columns )"
   ]
  },
  {
   "cell_type": "code",
   "execution_count": 8,
   "metadata": {
    "collapsed": false
   },
   "outputs": [
    {
     "name": "stdout",
     "output_type": "stream",
     "text": [
      "8435\n",
      "8435\n"
     ]
    }
   ],
   "source": [
    "altdf = df\n",
    "altdf['CarAV'] = altdf['CarAV'].fillna(altdf['First4AV'])\n",
    "#altdf['CarAV'] = altdf['CarAV'].apply( lambda x: df['First4AV'][x.name] if isinstance(x, float) else x )\n",
    "\n",
    "# if x == np.nan:\n",
    "#     return df['First4AV'][x.name]\n",
    "# else:\n",
    "#     return x \n",
    "print(len(altdf['CarAV']))\n",
    "print(len(altdf['CarAV'].dropna()))"
   ]
  },
  {
   "cell_type": "code",
   "execution_count": 9,
   "metadata": {
    "collapsed": false
   },
   "outputs": [
    {
     "ename": "AttributeError",
     "evalue": "'numpy.float64' object has no attribute 'name'",
     "output_type": "error",
     "traceback": [
      "\u001b[0;31m---------------------------------------------------------------------------\u001b[0m",
      "\u001b[0;31mAttributeError\u001b[0m                            Traceback (most recent call last)",
      "\u001b[0;32m<ipython-input-9-d37422a80f13>\u001b[0m in \u001b[0;36m<module>\u001b[0;34m()\u001b[0m\n\u001b[0;32m----> 1\u001b[0;31m \u001b[0maltdf\u001b[0m\u001b[0;34m[\u001b[0m\u001b[0;34m'CarAV'\u001b[0m\u001b[0;34m]\u001b[0m\u001b[0;34m[\u001b[0m\u001b[0;36m1\u001b[0m\u001b[0;34m]\u001b[0m\u001b[0;34m.\u001b[0m\u001b[0mname\u001b[0m\u001b[0;34m\u001b[0m\u001b[0m\n\u001b[0m",
      "\u001b[0;31mAttributeError\u001b[0m: 'numpy.float64' object has no attribute 'name'"
     ]
    }
   ],
   "source": [
    "altdf['CarAV'][1].name"
   ]
  },
  {
   "cell_type": "code",
   "execution_count": 10,
   "metadata": {
    "collapsed": false
   },
   "outputs": [
    {
     "data": {
      "text/plain": [
       "8435"
      ]
     },
     "execution_count": 10,
     "metadata": {},
     "output_type": "execute_result"
    }
   ],
   "source": [
    "df = df.dropna(subset = ['CarAV', 'First4AV'], how='any')\n",
    "len(df)"
   ]
  },
  {
   "cell_type": "code",
   "execution_count": 11,
   "metadata": {
    "collapsed": true
   },
   "outputs": [],
   "source": [
    "x = df[ 'First4AV' ]\n",
    "y = df[ 'Rnd' ].apply( lambda x: x + np.random.uniform(-.5, .5))"
   ]
  },
  {
   "cell_type": "code",
   "execution_count": 12,
   "metadata": {
    "collapsed": false
   },
   "outputs": [
    {
     "data": {
      "image/png": "[encoded data removed]",
      "text/plain": [
       "<matplotlib.figure.Figure at 0x10f969668>"
      ]
     },
     "metadata": {},
     "output_type": "display_data"
    }
   ],
   "source": [
    "plt.scatter( x, y )\n",
    "plt.show()"
   ]
  },
  {
   "cell_type": "code",
   "execution_count": 13,
   "metadata": {
    "collapsed": false
   },
   "outputs": [
    {
     "data": {
      "text/plain": [
       "array([13,  9,  0,  7,  8,  1,  6,  3,  5, 11,  2,  4, 12, 19, 17, 21, 16,\n",
       "       10, 24, 31, 22, 14, 18, 15, -1, 20, 27, 32, 26, 28, 30, 33, 48, 34,\n",
       "       45, 57, 37, 38, 25, 23, 29, 49, 70, -4, 83, 63, 69, 58, 54, 88, 41,\n",
       "       39, 40, 36, 42, 60, 61, 35, 46, 50, 51, 72, 65, 47, 52, 43, 56, 73,\n",
       "       53, 66, 79, 68, 44, 64, 62, 80, -2, 59, 71, 76, 74, 67, 82, 55, 84])"
      ]
     },
     "execution_count": 13,
     "metadata": {},
     "output_type": "execute_result"
    }
   ],
   "source": [
    "df[ 'First4AV' ].unique()"
   ]
  },
  {
   "cell_type": "code",
   "execution_count": 14,
   "metadata": {
    "collapsed": true
   },
   "outputs": [],
   "source": [
    "# The plotting drill of unit 1 requires the student to find and explore a data set by plotting various variables in\n",
    "# various ways, using the tools provided in mathplotlib and Seaborn.  I elected to continue with the Kaggle data set\n",
    "# of individual NFL players drafted between 1985 and 2015.  Two of the variables included in that set, CarAV and\n",
    "# First4AV, are based on Doug Drinen's \"Approximate Value\" rating for players, used by pro-football reference, and\n",
    "# broadly recognized across football media (http://www.sports-reference.com/blog/approximate-value-methodology/).\n",
    "# It should be noted that the AV rating awards players on the basis of in-game performance.  Team achievement is\n",
    "# recognized, and individual AV ratings are driven up when the player participates in, say, an offensive drive\n",
    "# culminating in a touchdown.  Skill position players also enhance their AV ratings by throwing a TD pass or rushing\n",
    "# for a big gain.  The AV rating seeks to reward players for tangible contributions to the full team effort of\n",
    "# winning regular season (and postseason) professional football games.\n",
    "\n",
    "# CarAV records the AV rating accumulated over the players' career, whereas First4AV records the AV rating for just\n",
    "# the first four years of a player's career.  It should be noted here (somewhere) that as of the time these data\n",
    "# were extracted, current NFL players who had played for four or fewer years only had a First4AV rating, as the\n",
    "# opportunity remained to record a higher (or lower) CarAV rating once the career was done and in the books.\n",
    "\n",
    "# I produced the graphic below (basically) as part of the drill, and immediately found it fascinating:"
   ]
  },
  {
   "cell_type": "code",
   "execution_count": 15,
   "metadata": {
    "collapsed": false
   },
   "outputs": [
    {
     "data": {
      "image/png": "[encoded data removed]",
      "text/plain": [
       "<matplotlib.figure.Figure at 0x10fcf5dd8>"
      ]
     },
     "metadata": {},
     "output_type": "display_data"
    }
   ],
   "source": [
    "x = altdf[ 'First4AV' ]\n",
    "y = altdf[ 'CarAV' ]\n",
    "plt.scatter( x, y, alpha=0.1 )\n",
    "plt.xlabel(\"First 4 Years AV\")\n",
    "plt.ylabel(\"Career AV\")\n",
    "\n",
    "axes = plt.gca()\n",
    "m, b = np.polyfit(x, y, 1)\n",
    "X_plot = np.linspace(axes.get_xlim()[0],axes.get_xlim()[1],100)\n",
    "plt.plot(X_plot, m*X_plot + b, '-', color = 'red')\n",
    "\n",
    "plt.show()"
   ]
  },
  {
   "cell_type": "code",
   "execution_count": 16,
   "metadata": {
    "collapsed": true
   },
   "outputs": [],
   "source": [
    "# Professional athletics contains thousands of stories of aspiration, ambition, athletic talent, achievement,\n",
    "# disappointment, failure, success, re-commitment, reversal, injury, recovery, inspiration, and so on.  This graphic\n",
    "# speaks to each of these stories.  I set alpha to a low value here to emphasize the concentration of individuals to \n",
    "# the lower left of the plot, particularly along that prominent linear cutoff.  These are the guys who established\n",
    "# a substellar First4AV rating, and failed to improve it during seasons 5, 6, and so on.  It appears that this\n",
    "# accounts for the bulk of the players in the dataset.\n",
    "\n",
    "# Note the prominent line of dots crawling up the vertical line First4AV = 0.  I don't know how many individuals sit\n",
    "# on (0, 0), but this is the zone of heartbreak and disappointment.  These players never managed to achieve a positive\n",
    "# AV rating during the first four years of the career, nor did they add to that AV rating during subsequent seasons.\n",
    "# Was it because they were perpetually relegated to the bench, and never saw any game action?  Or did they play some,\n",
    "# but never on any offensive drive resulting in a score?  Or were they part of a pathologically porous defense which\n",
    "# habitually yielded touchdowns to the opposition?  The players whose dots sit above zero, however, are the\n",
    "# representatives of hope.  These players must have played more than four years, because they were able to improve a\n",
    "# First4AV rating of 0 to a positive CarAV rating.  Their stories testify that perseverence beyond years of non-\n",
    "# contribution can result in a professional football career of positive contribution on the field.\n",
    "\n",
    "# The first impression one takes from this scatterplot is that it looks like the standard oval of linearly related \n",
    "# bivariate data, but with the left side and bottom sharply cut off along a line.  In the presence of such a scatter\n",
    "# plot, as statisticians, we salivate like the dog of Pavlov and are compelled to cook up a regression line.\n",
    "\n",
    "# To what extent is First4AV predictive of ultimate CarAV?  We answer that in the calculations below.  Scipy's stats\n",
    "# package courteously find a p-value of a test whose null hypothesis is that the slope \\alpha of the regression line\n",
    "# for all such data (not just our sample here) is zero.  Note that that p-value is reported as zero (though it\n",
    "# certainly must be positive -- just microscopically small).  Our data give a regression slope of about 1.476.  Painting\n",
    "# in broad strokes, what this says is that positive First4AV ratings are predicted to improve by a factor of about \n",
    "# 1-1/2 by the time the career is finished."
   ]
  },
  {
   "cell_type": "code",
   "execution_count": 17,
   "metadata": {
    "collapsed": false
   },
   "outputs": [
    {
     "name": "stdout",
     "output_type": "stream",
     "text": [
      "9.927089508002371\n",
      "13.13399170100432\n",
      "14.445643153526971\n",
      "21.448113117462785\n"
     ]
    }
   ],
   "source": [
    "xMean = np.mean( df[ 'First4AV' ])\n",
    "xSD   = np.std( df[ 'First4AV' ])\n",
    "yMean = np.mean( df[ 'CarAV' ])\n",
    "ySD   = np.std( df[ 'CarAV' ])\n",
    "\n",
    "print(xMean)\n",
    "print(xSD)\n",
    "print(yMean)\n",
    "print(ySD)"
   ]
  },
  {
   "cell_type": "code",
   "execution_count": 18,
   "metadata": {
    "collapsed": false
   },
   "outputs": [
    {
     "data": {
      "text/plain": [
       "(0.90387837284274464, 0.0)"
      ]
     },
     "execution_count": 18,
     "metadata": {},
     "output_type": "execute_result"
    }
   ],
   "source": [
    "x = altdf[ 'First4AV' ]\n",
    "y = altdf[ 'CarAV' ]\n",
    "\n",
    "stats.pearsonr(x, y)\n",
    "\n",
    "# slope, intercept, r_value, p_value, std_err = stats.linregress( x, y )"
   ]
  },
  {
   "cell_type": "code",
   "execution_count": 19,
   "metadata": {
    "collapsed": true
   },
   "outputs": [],
   "source": [
    "slope, intercept, r_value, p_value, std_err = stats.linregress( x, y )"
   ]
  },
  {
   "cell_type": "code",
   "execution_count": 20,
   "metadata": {
    "collapsed": false
   },
   "outputs": [
    {
     "name": "stdout",
     "output_type": "stream",
     "text": [
      "1.47605435015\n",
      "-0.207280499131\n",
      "0.903878372843\n",
      "0.0\n",
      "0.00760731607409\n"
     ]
    }
   ],
   "source": [
    "print(slope)\n",
    "print(intercept)\n",
    "print(r_value)\n",
    "print(p_value)\n",
    "print(std_err)"
   ]
  },
  {
   "cell_type": "code",
   "execution_count": 21,
   "metadata": {
    "collapsed": true
   },
   "outputs": [],
   "source": [
    "# So, young players who manage to make a positive contribution to the team as measured by AV rating are well encouraged\n",
    "# to pay attention to their coaching;  the data predict they can improve as players.\n",
    "\n",
    "# OK, so now we've hit on the issue underlying this particular scatterplot.  What is the practical difference between\n",
    "# fresh players just drafted into the league, and veteran players who've endured multiple seasons of NFL-style war?\n",
    "# Coaching.  Perennial pro-bowl and future HOF-er Joe Thomas recently opined that it takes anywhere from two to seven\n",
    "# years for a college player to develop into a bona-fide NFL player.  NFL teams shepherd players through this\n",
    "# transition, from the much simpler college game to the much faster professional game, by hiring large staffs of\n",
    "# professional coaches, assistant coaches, coordinators and trainers to work often one-on-one with the players to\n",
    "# optimize their on-field performance.  In this sense, we are set up to analyze our data in a matched-pairs fashion,\n",
    "# as a pre-treatment (First4AV), post-treatment (CarAV) experimental design, to see what positive effect (if any) the\n",
    "# treatment (coaching) holds."
   ]
  },
  {
   "cell_type": "code",
   "execution_count": 22,
   "metadata": {
    "collapsed": true
   },
   "outputs": [],
   "source": [
    "# This isn't perfect, for many reasons.  First, the First4AV rating takes into account the first four years of a\n",
    "# player's career.  Many players don't last four years, or peak during the first four years.  I'll venture a guess that\n",
    "# that's the reason we end up with such a dark 'y = x' line in the scatterplot.  Perhaps if we used a First3AV or\n",
    "# First2AV for the explanatory variable, we'd witness more players above the y = x line.\n",
    "\n",
    "# For another thing, the CarAV rating also takes into account players' performances during the first four years.  We'd\n",
    "# get a better measure of coaching effectiveness if we could examine 'AVafter2' vs 'First2AV', a \"year 2 split\",\n",
    "# or a \"year 3 split\".  If the goal is to optimize coaching effectiveness, you'll want to examine the\n",
    "# \"year n split\" for n = 1, 2, 3, 4, and so on."
   ]
  },
  {
   "cell_type": "code",
   "execution_count": 23,
   "metadata": {
    "collapsed": true
   },
   "outputs": [],
   "source": [
    "# Another imperfection lies in the monolithic way I've spoken about coaching so far.  Not all coaching is created\n",
    "# equal.  There are different coaching techniques -- and, more importantly, there are different coaches.  It's just\n",
    "# like teaching;  it really cannot be boiled down to mere technique, it's dependent on the chemistry between players\n",
    "# and the individual coach.  We are human beings and we respond to human beings.  For this reason, examination of year\n",
    "# n splits for individual coaches could be used to measure coaching effectivenes, and so used in making staffing\n",
    "# decisions.  It seems best to me that we not confound the effectiveness of the human coaches with the coaching\n",
    "# technique they are charged to employ.  It is certainly possible to test those techniques, but we ask for statistical\n",
    "# pandemonium by not isolating either the coach or the technique.  I'm opting for the former."
   ]
  },
  {
   "cell_type": "code",
   "execution_count": 24,
   "metadata": {
    "collapsed": true
   },
   "outputs": [],
   "source": [
    "# Every football team faces the difficulty of educating its young players fresh from college and turning them into\n",
    "# effective players at the professional level.  Is coaching effective in this endeavor?  I'm going to assert the\n",
    "# answer is yes, and propose to use AV ratings to show this.\n",
    "\n",
    "# It is essential to define precisely what is meant by \"coaching.\"  I do not wish to go too deep in the weeds for the\n",
    "# purposes of this study, and so will use an exceedingly broad definition of the term.  I am envisioning this kind of\n",
    "# study being run by an individual NFL football team for the purpose of self-assessment.  So, I would include all\n",
    "# phases of the player preparation process, as we are currently configured.  Coaching includes instruction by coaches\n",
    "# on the field in both football fundamentals (blocking, tackling, running, catching, protecting the football and so\n",
    "# on), and position specific instruction, such as throwing and reading defenses (for quarterbacks), or how to angle\n",
    "# kicks (for kickoff specialists and punters).  It also includes other activites, such as weight training and diet\n",
    "# adjustment.  It would be too difficult to tease out all the individual contributions to player improvement, so we\n",
    "# take a \"kitchen sink\" approach (for now)."
   ]
  },
  {
   "cell_type": "code",
   "execution_count": 25,
   "metadata": {
    "collapsed": false
   },
   "outputs": [],
   "source": [
    "# So, here's the research proposal:\n",
    "\n",
    "# The problem:\n",
    "#     How do we turn college football players into professional football players capable of excelling in the NFL?\n",
    "\n",
    "# The potential solution:\n",
    "#     We will coach them, and measure the change in game performance via the aggregate AV rating.\n",
    "\n",
    "# The method of testing the solution:\n",
    "#     For each player for which an established AV rating for the earlier years of the career is available, we record\n",
    "#     these as PrevAV (note that this means rookies will not be a part of this study).  Over the course of the season,\n",
    "#     contributing data are gathered, and a SeasonAV rating is calculated.  We run a matched pairs experiment, and\n",
    "#     apply a one-sample t-test to individual differences DeltaAV = SeasonAV - PrevAV.\n",
    "\n",
    "# If we witness no statistically significant AV increase, we'll change the way we coach.  Exactly what changes we'll\n",
    "# make cannot be dictated from so general a study.  This is a weakness in the design as currently configured."
   ]
  },
  {
   "cell_type": "code",
   "execution_count": null,
   "metadata": {
    "collapsed": true
   },
   "outputs": [],
   "source": [
    "# Other Design Criticisms:\n",
    "\n",
    "# The AV rating is a good measure of how effectively your players are playing at the professional level;  but it is so\n",
    "# general that noting a failure to significantly improve the AV rating of your players also fails to suggest a remedy.\n",
    "# Every aspect of this study cries out for another, more skill-specific study, so that we can target our efforts in\n",
    "# seeking to improve in areas where we're failing.\n",
    "\n",
    "# There is no control group against which we can compare our coaching regimen.  To be fair, in this context there\n",
    "# cannot be such a control group.  No NFL team has the time, money, or personnel resources to devote to setting up\n",
    "# and maintaining a control group to receive no treatment.  It may be possible to use year-to-year AV ratings for\n",
    "# mid-career veterans to simulate a control;  these players are seasoned veterans at the peak of effectiveness, and\n",
    "# are unlikely to show much change in AV rating, unless they are subject to a coaching regimen radically different\n",
    "# from what they've already experienced.\n",
    "\n",
    "# By necessity we've adopted a broad definition of \"coaching.\"  The obvious criticism that the many variables which\n",
    "# affect a player's performance are confounded must be noted.  Did the player's AV rating improve over the course of\n",
    "# the season because of the additional time spent on the field in tackling drills, or the increased workout intensity\n",
    "# in the weight room, or the performance enhancing diet ordered by the team nutritionist?  There is no way of telling\n",
    "# from this study.\n",
    "\n",
    "# I was inspired to set up this particular study, again, from the scatterplot above.  But that graphic includes all\n",
    "# players drafted into the league between 1985 and 2015.  To emphasize via understatement:  that's a lot of players.\n",
    "# Here I'm proposing to measure year to year AV measurements based on many fewer players.  Each year the draft provides\n",
    "# each team with approximately seven new players, in addition to which about a dozen undrafted free agents (UDFAs,\n",
    "# also fresh out of college) also join the team.  Each team is subject to the churn of which I speak through the\n",
    "# process of free agency.  Each team is required, after looking at about 90 players through summer training camp and\n",
    "# the pre-season games, to whittle their rosters to a final count of 53.  Of those, a fair number are rookies which\n",
    "# cannot be used in our study (no AV rating for last season).  Others may be freshly arrived free agents, who will have\n",
    "# an established AV rating, but you may not want to use it if the background is sufficiently different from our current\n",
    "# coaching regimen.  If we're lucky, we can run our study on the basis of a sample of size n = 40, which should be\n",
    "# large enough for a one-sample t.  Still, it's an issue of which we need to be cognizant.\n",
    "\n",
    "# As an alternative, one could run a t-test based on regression line slopes stuck through bivariate data, as I did\n",
    "# above.  Is that a better way to go?  I would think not, as matched pairs data speak so directly to the issue at hand.\n",
    "# But I'm open minded and sensitive to whatever virtues might inhabit the alternative approach.\n",
    "\n",
    "# Surely there is at least one obvious criticism which is glaringly absent this report.\n",
    "\n",
    "# I see the directions say \"... a quick RFC ...,\" so I'll stop now."
   ]
  }
 ],
 "metadata": {
  "kernelspec": {
   "display_name": "Python 3",
   "language": "python",
   "name": "python3"
  },
  "language_info": {
   "codemirror_mode": {
    "name": "ipython",
    "version": 3
   },
   "file_extension": ".py",
   "mimetype": "text/x-python",
   "name": "python",
   "nbconvert_exporter": "python",
   "pygments_lexer": "ipython3",
   "version": "3.6.0"
  }
 },
 "nbformat": 4,
 "nbformat_minor": 2
}
